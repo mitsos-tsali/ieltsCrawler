{
 "cells": [
  {
   "cell_type": "code",
   "execution_count": 3,
   "metadata": {},
   "outputs": [],
   "source": [
    "from bs4 import BeautifulSoup\n",
    "from selenium import webdriver\n",
    "from selenium.webdriver.chrome.options import Options\n",
    "from selenium.webdriver.chrome.service import Service\n",
    "from selenium.webdriver.common.by import By\n",
    "from selenium.webdriver.support import expected_conditions as EC\n",
    "from selenium.webdriver.support.wait import WebDriverWait\n",
    "from webdriver_manager.chrome import ChromeDriverManager\n",
    "from apscheduler.schedulers.background import BlockingScheduler\n",
    "from typing import Final\n",
    "import traceback"
   ]
  },
  {
   "cell_type": "code",
   "execution_count": 18,
   "metadata": {},
   "outputs": [],
   "source": [
    "seconds: Final[int] = 30\n",
    "\n",
    "options = Options()\n",
    "options.add_argument('--disable-dev-shm-usage')\n",
    "# options.add_argument('--headless=new')\n",
    "\n"
   ]
  },
  {
   "cell_type": "code",
   "execution_count": 22,
   "metadata": {},
   "outputs": [
    {
     "ename": "KeyboardInterrupt",
     "evalue": "",
     "output_type": "error",
     "traceback": [
      "\u001b[0;31m---------------------------------------------------------------------------\u001b[0m",
      "\u001b[0;31mKeyboardInterrupt\u001b[0m                         Traceback (most recent call last)",
      "Cell \u001b[0;32mIn[22], line 30\u001b[0m\n\u001b[1;32m     28\u001b[0m     sched \u001b[38;5;241m=\u001b[39m BlockingScheduler()\n\u001b[1;32m     29\u001b[0m     sched\u001b[38;5;241m.\u001b[39madd_job(checkDates, trigger\u001b[38;5;241m=\u001b[39m\u001b[38;5;124m'\u001b[39m\u001b[38;5;124minterval\u001b[39m\u001b[38;5;124m'\u001b[39m, seconds\u001b[38;5;241m=\u001b[39mseconds)\n\u001b[0;32m---> 30\u001b[0m     \u001b[43msched\u001b[49m\u001b[38;5;241;43m.\u001b[39;49m\u001b[43mstart\u001b[49m\u001b[43m(\u001b[49m\u001b[43m)\u001b[49m\n\u001b[1;32m     31\u001b[0m \u001b[38;5;28;01mexcept\u001b[39;00m \u001b[38;5;167;01mException\u001b[39;00m \u001b[38;5;28;01mas\u001b[39;00m e:\n\u001b[1;32m     32\u001b[0m     traceback\u001b[38;5;241m.\u001b[39mprint_exc(e)\n",
      "File \u001b[0;32m~/Desktop/IELTS BOT/lib/python3.10/site-packages/apscheduler/schedulers/blocking.py:21\u001b[0m, in \u001b[0;36mBlockingScheduler.start\u001b[0;34m(self, *args, **kwargs)\u001b[0m\n\u001b[1;32m     18\u001b[0m     \u001b[38;5;28mself\u001b[39m\u001b[38;5;241m.\u001b[39m_event \u001b[38;5;241m=\u001b[39m Event()\n\u001b[1;32m     20\u001b[0m \u001b[38;5;28msuper\u001b[39m(BlockingScheduler, \u001b[38;5;28mself\u001b[39m)\u001b[38;5;241m.\u001b[39mstart(\u001b[38;5;241m*\u001b[39margs, \u001b[38;5;241m*\u001b[39m\u001b[38;5;241m*\u001b[39mkwargs)\n\u001b[0;32m---> 21\u001b[0m \u001b[38;5;28;43mself\u001b[39;49m\u001b[38;5;241;43m.\u001b[39;49m\u001b[43m_main_loop\u001b[49m\u001b[43m(\u001b[49m\u001b[43m)\u001b[49m\n",
      "File \u001b[0;32m~/Desktop/IELTS BOT/lib/python3.10/site-packages/apscheduler/schedulers/blocking.py:30\u001b[0m, in \u001b[0;36mBlockingScheduler._main_loop\u001b[0;34m(self)\u001b[0m\n\u001b[1;32m     28\u001b[0m wait_seconds \u001b[38;5;241m=\u001b[39m TIMEOUT_MAX\n\u001b[1;32m     29\u001b[0m \u001b[38;5;28;01mwhile\u001b[39;00m \u001b[38;5;28mself\u001b[39m\u001b[38;5;241m.\u001b[39mstate \u001b[38;5;241m!=\u001b[39m STATE_STOPPED:\n\u001b[0;32m---> 30\u001b[0m     \u001b[38;5;28;43mself\u001b[39;49m\u001b[38;5;241;43m.\u001b[39;49m\u001b[43m_event\u001b[49m\u001b[38;5;241;43m.\u001b[39;49m\u001b[43mwait\u001b[49m\u001b[43m(\u001b[49m\u001b[43mwait_seconds\u001b[49m\u001b[43m)\u001b[49m\n\u001b[1;32m     31\u001b[0m     \u001b[38;5;28mself\u001b[39m\u001b[38;5;241m.\u001b[39m_event\u001b[38;5;241m.\u001b[39mclear()\n\u001b[1;32m     32\u001b[0m     wait_seconds \u001b[38;5;241m=\u001b[39m \u001b[38;5;28mself\u001b[39m\u001b[38;5;241m.\u001b[39m_process_jobs()\n",
      "File \u001b[0;32m/usr/lib/python3.10/threading.py:607\u001b[0m, in \u001b[0;36mEvent.wait\u001b[0;34m(self, timeout)\u001b[0m\n\u001b[1;32m    605\u001b[0m signaled \u001b[38;5;241m=\u001b[39m \u001b[38;5;28mself\u001b[39m\u001b[38;5;241m.\u001b[39m_flag\n\u001b[1;32m    606\u001b[0m \u001b[38;5;28;01mif\u001b[39;00m \u001b[38;5;129;01mnot\u001b[39;00m signaled:\n\u001b[0;32m--> 607\u001b[0m     signaled \u001b[38;5;241m=\u001b[39m \u001b[38;5;28;43mself\u001b[39;49m\u001b[38;5;241;43m.\u001b[39;49m\u001b[43m_cond\u001b[49m\u001b[38;5;241;43m.\u001b[39;49m\u001b[43mwait\u001b[49m\u001b[43m(\u001b[49m\u001b[43mtimeout\u001b[49m\u001b[43m)\u001b[49m\n\u001b[1;32m    608\u001b[0m \u001b[38;5;28;01mreturn\u001b[39;00m signaled\n",
      "File \u001b[0;32m/usr/lib/python3.10/threading.py:324\u001b[0m, in \u001b[0;36mCondition.wait\u001b[0;34m(self, timeout)\u001b[0m\n\u001b[1;32m    322\u001b[0m \u001b[38;5;28;01melse\u001b[39;00m:\n\u001b[1;32m    323\u001b[0m     \u001b[38;5;28;01mif\u001b[39;00m timeout \u001b[38;5;241m>\u001b[39m \u001b[38;5;241m0\u001b[39m:\n\u001b[0;32m--> 324\u001b[0m         gotit \u001b[38;5;241m=\u001b[39m \u001b[43mwaiter\u001b[49m\u001b[38;5;241;43m.\u001b[39;49m\u001b[43macquire\u001b[49m\u001b[43m(\u001b[49m\u001b[38;5;28;43;01mTrue\u001b[39;49;00m\u001b[43m,\u001b[49m\u001b[43m \u001b[49m\u001b[43mtimeout\u001b[49m\u001b[43m)\u001b[49m\n\u001b[1;32m    325\u001b[0m     \u001b[38;5;28;01melse\u001b[39;00m:\n\u001b[1;32m    326\u001b[0m         gotit \u001b[38;5;241m=\u001b[39m waiter\u001b[38;5;241m.\u001b[39macquire(\u001b[38;5;28;01mFalse\u001b[39;00m)\n",
      "\u001b[0;31mKeyboardInterrupt\u001b[0m: "
     ]
    }
   ],
   "source": [
    "\n",
    "try:\n",
    "    def checkDates():\n",
    "        driver = webdriver.Chrome(service=Service(ChromeDriverManager().install()), options=options)\n",
    "        driver.get(\"https://ieltsregistration.britishcouncil.org/ors/find-test\")\n",
    "        \n",
    "        cookies_accept = WebDriverWait(driver,6).until(EC.visibility_of_element_located((By.XPATH, '//*[@id=\"onetrust-accept-btn-handler\"]')))\n",
    "        cookies_accept.click()\n",
    "        academic_ielts = WebDriverWait(driver,4).until(EC.visibility_of_element_located((By.ID, 'select-ac')))\n",
    "        academic_ielts.click()\n",
    "        book_ielts = WebDriverWait(driver, 5).until(EC.visibility_of_element_located((By.XPATH, '//*[@id=\"app-container\"]/div/article/div[2]/div/div/div[3]/button')))\n",
    "        book_ielts.click()\n",
    "        click_country = WebDriverWait(driver, 2).until(EC.visibility_of_element_located((By.XPATH, '//*[@id=\"select-country\"]/div[2]/ul/li[44]/button')))\n",
    "        click_country.click()\n",
    "        city_input = WebDriverWait(driver, 2).until(EC.visibility_of_element_located((By.XPATH, '//*[@id=\"select-location\"]/div[2]/ul/li[7]/button')))\n",
    "        city_input.click()\n",
    "        all_dates = WebDriverWait(driver,2).until(EC.visibility_of_element_located((By.XPATH, '//*[@id=\"app-container\"]/div/article/div[2]/div/div/div/div[5]/div[2]/label/input')))\n",
    "        all_dates.click()\n",
    "        show_dates = WebDriverWait(driver,2).until(EC.visibility_of_element_located((By.XPATH,'//*[@id=\"app-container\"]/div/article/div[2]/div/div/div/div[6]/button')))\n",
    "        show_dates.click()\n",
    "        dates_table = WebDriverWait(driver,2).until(EC.visibility_of_all_elements_located((By.CLASS_NAME, 'css-1gklrnv')))\n",
    "        print(\"===== Length: %2d =====\" % (len(dates_table)))\n",
    "        \n",
    "        if int(dates_table[0].get_attribute(\"data-examid\")) < 6106484:\n",
    "            print(\"DATE FOUND\")\n",
    "            exit(2)\n",
    "        driver.quit()\n",
    "        \n",
    "    sched = BlockingScheduler()\n",
    "    sched.add_job(checkDates, trigger='interval', seconds=seconds)\n",
    "    sched.start()\n",
    "except Exception as e:\n",
    "    traceback.print_exc(e)"
   ]
  }
 ],
 "metadata": {
  "kernelspec": {
   "display_name": "IELTS BOT",
   "language": "python",
   "name": "python3"
  },
  "language_info": {
   "codemirror_mode": {
    "name": "ipython",
    "version": 3
   },
   "file_extension": ".py",
   "mimetype": "text/x-python",
   "name": "python",
   "nbconvert_exporter": "python",
   "pygments_lexer": "ipython3",
   "version": "3.10.12"
  }
 },
 "nbformat": 4,
 "nbformat_minor": 2
}
